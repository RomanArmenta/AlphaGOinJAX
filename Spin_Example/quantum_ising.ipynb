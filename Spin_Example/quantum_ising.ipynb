{
 "cells": [
  {
   "cell_type": "code",
   "execution_count": null,
   "metadata": {},
   "outputs": [],
   "source": [
    "import jax\n",
    "import jax.numpy as jnp\n",
    "import numpy as np\n",
    "import flax.linen as nn\n",
    "import optax\n",
    "from collections import deque\n",
    "from functools import partial\n",
    "\n",
    "# Ising model environment\n",
    "# Following the markov decision process thingui, this must store the state of the ising chain,\n",
    "# and an agent (externo) can take actions (flip spins), and then the env returns reward and the new state\n",
    "\n",
    "class t_ising_env:\n",
    "    def __init__(self, N, J, g, seed: int = 42):\n",
    "        self.J = J # interchange thingui\n",
    "        self.g = g # external field\n",
    "        self.N = N # number of spin sites\n",
    "        self.key = jax.random.PRNGKey(seed)\n",
    "        self.state = self.reset() # initial state at random\n",
    "    \n",
    "    # initialize spins randomly\n",
    "    def reset(self):\n",
    "        self.key, subkey = jax.random.split(self.key)\n",
    "        state = jax.random.choice(subkey, jnp.array([-1, 1]), shape = (self.N,))\n",
    "        return state\n",
    "    \n",
    "    # computes local energy\n",
    "    def local_energy(self, state):\n",
    "        local = jnp.sum(pos*jnp.roll(pos, 1))*(-J) + \\\n",
    "                jnp.sum(jnp.array([func(pos.at[i].multiply(-1)) for i in range(n_sites)]))*(-g)/func(pos)\n",
    "        return -jnp.sum(state * jnp.roll(state, shift=-1))\n",
    "    \n",
    "    # take a step ie flip a spin and returns new state and reward\n",
    "    \n",
    "    def step(self, action):\n",
    "        new_state = self.state.at[action].set(-self.state[action])\n",
    "        delta_H = self.energy(new_state) - self.energy(self.state)\n",
    "\n",
    "        accept_prob = jnp.minimum(1.0, jnp.exp(-self.beta * delta_H))\n",
    "        self.key, subkey = jax.random.split(self.key)\n",
    "        flip = jax.random.uniform(subkey) < accept_prob\n",
    "        \n",
    "        self.state = jnp.where(flip, new_state, self.state)\n",
    "        reward = jnp.where(flip, -delta_H, 0.)\n",
    "\n",
    "        return self.state, reward"
   ]
  },
  {
   "cell_type": "code",
   "execution_count": null,
   "metadata": {},
   "outputs": [],
   "source": []
  }
 ],
 "metadata": {
  "kernelspec": {
   "display_name": "jax-env",
   "language": "python",
   "name": "python3"
  },
  "language_info": {
   "codemirror_mode": {
    "name": "ipython",
    "version": 3
   },
   "file_extension": ".py",
   "mimetype": "text/x-python",
   "name": "python",
   "nbconvert_exporter": "python",
   "pygments_lexer": "ipython3",
   "version": "3.12.3"
  }
 },
 "nbformat": 4,
 "nbformat_minor": 2
}
